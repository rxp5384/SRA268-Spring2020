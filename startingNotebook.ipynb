{
  "nbformat": 4,
  "nbformat_minor": 0,
  "metadata": {
    "colab": {
      "name": "startingNotebook.ipynb",
      "provenance": [],
      "authorship_tag": "ABX9TyPsaqFZMYHnztgl/AIu5taT",
      "include_colab_link": true
    },
    "kernelspec": {
      "name": "python3",
      "display_name": "Python 3"
    }
  },
  "cells": [
    {
      "cell_type": "markdown",
      "metadata": {
        "id": "view-in-github",
        "colab_type": "text"
      },
      "source": [
        "<a href=\"https://colab.research.google.com/github/rxp5384/SRA268-Spring2020/blob/master/startingNotebook.ipynb\" target=\"_parent\"><img src=\"https://colab.research.google.com/assets/colab-badge.svg\" alt=\"Open In Colab\"/></a>"
      ]
    },
    {
      "cell_type": "code",
      "metadata": {
        "id": "remgvJue5sEC",
        "colab_type": "code",
        "colab": {
          "base_uri": "https://localhost:8080/",
          "height": 34
        },
        "outputId": "e13583b4-b1aa-4cdd-f38b-7fef9e26eda3"
      },
      "source": [
        "2+2\n"
      ],
      "execution_count": 1,
      "outputs": [
        {
          "output_type": "execute_result",
          "data": {
            "text/plain": [
              "4"
            ]
          },
          "metadata": {
            "tags": []
          },
          "execution_count": 1
        }
      ]
    },
    {
      "cell_type": "markdown",
      "metadata": {
        "id": "Q-5WhUkw55a9",
        "colab_type": "text"
      },
      "source": [
        "# Abstract"
      ]
    },
    {
      "cell_type": "markdown",
      "metadata": {
        "id": "4z5wyqAX6UEJ",
        "colab_type": "text"
      },
      "source": [
        "something in here"
      ]
    },
    {
      "cell_type": "markdown",
      "metadata": {
        "id": "KPPn2CWa6DMC",
        "colab_type": "text"
      },
      "source": [
        "# Introduction "
      ]
    },
    {
      "cell_type": "markdown",
      "metadata": {
        "id": "tAfYhfSB6PME",
        "colab_type": "text"
      },
      "source": [
        "something in there"
      ]
    },
    {
      "cell_type": "markdown",
      "metadata": {
        "id": "0UOAWzKF6Rha",
        "colab_type": "text"
      },
      "source": [
        "![image](https://raw.githubusercontent.com/rxp5384/SRA268-Spring2020/master/images/60005854.png)"
      ]
    },
    {
      "cell_type": "markdown",
      "metadata": {
        "id": "ogbORj3R82Aa",
        "colab_type": "text"
      },
      "source": [
        ""
      ]
    },
    {
      "cell_type": "code",
      "metadata": {
        "id": "meNV3u-d82nR",
        "colab_type": "code",
        "colab": {}
      },
      "source": [
        ""
      ],
      "execution_count": 0,
      "outputs": []
    }
  ]
}