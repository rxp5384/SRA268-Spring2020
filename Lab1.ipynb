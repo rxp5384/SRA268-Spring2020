{
  "nbformat": 4,
  "nbformat_minor": 0,
  "metadata": {
    "colab": {
      "name": "Lab1.ipynb",
      "provenance": [],
      "collapsed_sections": [],
      "authorship_tag": "ABX9TyOkagDFMqPCLzYKFRF/dkyt",
      "include_colab_link": true
    },
    "kernelspec": {
      "name": "python3",
      "display_name": "Python 3"
    }
  },
  "cells": [
    {
      "cell_type": "markdown",
      "metadata": {
        "id": "view-in-github",
        "colab_type": "text"
      },
      "source": [
        "<a href=\"https://colab.research.google.com/github/rxp5384/SRA268-Spring2020/blob/master/Lab1.ipynb\" target=\"_parent\"><img src=\"https://colab.research.google.com/assets/colab-badge.svg\" alt=\"Open In Colab\"/></a>"
      ]
    },
    {
      "cell_type": "markdown",
      "metadata": {
        "id": "Hxb7nxsbOgwb",
        "colab_type": "text"
      },
      "source": [
        "Rahul Patel\n",
        "\n",
        "Professor Dudas\n",
        "\n",
        "SRA 268\n",
        "\n",
        "24 January 2020"
      ]
    },
    {
      "cell_type": "markdown",
      "metadata": {
        "id": "NKL_vtxiLSnX",
        "colab_type": "text"
      },
      "source": [
        "# **Average Amount of Percipitation in State College per Month (2017)**"
      ]
    },
    {
      "cell_type": "markdown",
      "metadata": {
        "id": "vyiONkIJLZAn",
        "colab_type": "text"
      },
      "source": [
        "# **Description**"
      ]
    },
    {
      "cell_type": "markdown",
      "metadata": {
        "id": "epXVfhyiD9-F",
        "colab_type": "text"
      },
      "source": [
        "In this lab I will be comparing the different amounts of rain in State College per month throughout the year 2017. In my findings I hope to figure out the trend and see how rain differs in months. I expect to see some months have more rain than other months depending on the season."
      ]
    },
    {
      "cell_type": "markdown",
      "metadata": {
        "id": "-K2vWpz7OT3y",
        "colab_type": "text"
      },
      "source": [
        "# **Graph**"
      ]
    },
    {
      "cell_type": "markdown",
      "metadata": {
        "id": "_Vi3iI6EZI3K",
        "colab_type": "text"
      },
      "source": [
        "![Graph of Average Percipitation per Month](https://raw.githubusercontent.com/rxp5384/SRA268-Spring2020/master/images/IMG_2675.jpg)"
      ]
    },
    {
      "cell_type": "markdown",
      "metadata": {
        "id": "QYvfd5zlOZ1N",
        "colab_type": "text"
      },
      "source": [
        "# **Conclusion**"
      ]
    },
    {
      "cell_type": "markdown",
      "metadata": {
        "id": "S3xwuDU3bSUL",
        "colab_type": "text"
      },
      "source": [
        "Based off the data and the graph the highest months of percipitation was May and October. The lowest month of percipitation was December. As you can see, there is no linear pattern for the amount of percipitation we get throughout the months in State College. Throughout the year, percipitation varies and it is hard to pinpoint a consistent increase or decrease."
      ]
    }
  ]
}