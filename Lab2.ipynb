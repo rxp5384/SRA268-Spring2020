{
  "nbformat": 4,
  "nbformat_minor": 0,
  "metadata": {
    "colab": {
      "name": "Lab2.ipynb",
      "provenance": [],
      "collapsed_sections": [],
      "include_colab_link": true
    },
    "kernelspec": {
      "name": "python3",
      "display_name": "Python 3"
    }
  },
  "cells": [
    {
      "cell_type": "markdown",
      "metadata": {
        "id": "view-in-github",
        "colab_type": "text"
      },
      "source": [
        "<a href=\"https://colab.research.google.com/github/rxp5384/SRA268-Spring2020/blob/master/Lab2.ipynb\" target=\"_parent\"><img src=\"https://colab.research.google.com/assets/colab-badge.svg\" alt=\"Open In Colab\"/></a>"
      ]
    },
    {
      "cell_type": "markdown",
      "metadata": {
        "id": "6sOc4Uyr4U-Z",
        "colab_type": "text"
      },
      "source": [
        "## Graph Types"
      ]
    },
    {
      "cell_type": "markdown",
      "metadata": {
        "id": "0zZdVLAd5CYr",
        "colab_type": "text"
      },
      "source": [
        "Creator\n",
        "* Rahul Patel"
      ]
    },
    {
      "cell_type": "markdown",
      "metadata": {
        "id": "g-r6Clq45Hn4",
        "colab_type": "text"
      },
      "source": [
        "### Deviation\n"
      ]
    },
    {
      "cell_type": "markdown",
      "metadata": {
        "id": "2gorxo6E7A0t",
        "colab_type": "text"
      },
      "source": [
        "![alt text](https://raw.githubusercontent.com/rxp5384/SRA268-Spring2020/master/images/Screen%20Shot%202020-02-19%20at%202.14.45%20PM.png)"
      ]
    },
    {
      "cell_type": "markdown",
      "metadata": {
        "id": "w6bZ_NEi7E3w",
        "colab_type": "text"
      },
      "source": [
        "#### What is this telling us?"
      ]
    },
    {
      "cell_type": "markdown",
      "metadata": {
        "id": "95L-spaC7QHF",
        "colab_type": "text"
      },
      "source": [
        "Using a deviation graph like this represents two diverging bar charts that can handle both negative and positive values. As you can see from this graph, there are a set of values on the top that represent positive sum values and values on the bottom that represent negative sum values. These values represent the average of win points per academic year. For example, in the data you can interpret that years between 2002 and 2010 there is a negative deviation for win points compared to 1987 to 1992. Also, in 1984 you can see it is the most negative value and the color is birght red to represent that. The different shades of color throughout the graph represents how much more negative or positive the values are compared to each other."
      ]
    },
    {
      "cell_type": "markdown",
      "metadata": {
        "id": "YgXyXjmz7cDP",
        "colab_type": "text"
      },
      "source": [
        "### Correlation\n"
      ]
    },
    {
      "cell_type": "markdown",
      "metadata": {
        "id": "SGx15rZq7hvt",
        "colab_type": "text"
      },
      "source": [
        "![alt text](https://raw.githubusercontent.com/rxp5384/SRA268-Spring2020/master/images/Screen%20Shot%202020-02-21%20at%201.02.31%20AM.png)"
      ]
    },
    {
      "cell_type": "markdown",
      "metadata": {
        "id": "dljjONNi7jmj",
        "colab_type": "text"
      },
      "source": [
        "#### What is this telling us?"
      ]
    },
    {
      "cell_type": "markdown",
      "metadata": {
        "id": "PwZEZrFB7laG",
        "colab_type": "text"
      },
      "source": [
        "Using a correlation graph like this, which is a scatterplot, shows relationships between two or more points. This graph represents the relationship between win points and lose points in an academic year from 1984-2016. As you interpret the graph, you may realize that the trend between win points and lose points are quiet similar. There is a common trend from 1984-1986 that shows the points increase and then decrease from 1986-1997. From 1998-2001 there is a slight increase and from 2002-2016 the trend stay relatively leveled and similar. The points are differentiated by color to help the viewer see the differences and trends easier. The orange points represent the win points and the blue points represent the lose points."
      ]
    },
    {
      "cell_type": "markdown",
      "metadata": {
        "id": "MqUdI-uL7r2s",
        "colab_type": "text"
      },
      "source": [
        "### Ranking\n"
      ]
    },
    {
      "cell_type": "markdown",
      "metadata": {
        "id": "AvlxCOVt7x9F",
        "colab_type": "text"
      },
      "source": [
        "![alt text](https://raw.githubusercontent.com/rxp5384/SRA268-Spring2020/master/images/Screen%20Shot%202020-02-19%20at%2012.45.43%20PM.png)"
      ]
    },
    {
      "cell_type": "markdown",
      "metadata": {
        "id": "lCAYtfza7yTq",
        "colab_type": "text"
      },
      "source": [
        "#### What is this telling us?"
      ]
    },
    {
      "cell_type": "markdown",
      "metadata": {
        "id": "MyuciD277ygU",
        "colab_type": "text"
      },
      "source": [
        "Using a ranking graph like this, which is an ordered bar graph, highlights the positioning of the data relative to each other. From left to right this graph represents the years that have the lowest to highest win points throughout the different academic years. From this graph you can interpret that the lowest win points was in 1984 and the highest was in 1988. This graph is a great representation of how in different years, even though not in order, win points vary throughout years and do not always increase consecutively. "
      ]
    },
    {
      "cell_type": "markdown",
      "metadata": {
        "id": "dGDGl8-G7y8Y",
        "colab_type": "text"
      },
      "source": [
        "### Distribution\n"
      ]
    },
    {
      "cell_type": "markdown",
      "metadata": {
        "id": "FB0uV-jy76p9",
        "colab_type": "text"
      },
      "source": [
        "![alt text](https://raw.githubusercontent.com/rxp5384/SRA268-Spring2020/master/images/Screen%20Shot%202020-02-19%20at%2012.49.39%20PM.png)"
      ]
    },
    {
      "cell_type": "markdown",
      "metadata": {
        "id": "_6SOzhrQ76zH",
        "colab_type": "text"
      },
      "source": [
        "#### What is this telling us?"
      ]
    },
    {
      "cell_type": "markdown",
      "metadata": {
        "id": "HBWqsS_g767h",
        "colab_type": "text"
      },
      "source": [
        "Using a distribution graph like this,which is a histogram, shows the values of the dataset and may show how often they occur. Also, looking at skewness can help with highlighting patterns. This graph represents the reoccurence of win points throughout the set of data. As you interpret the graph, you can see that between 70-80 win points shows up in the data about 600 times, which is the most. Between 120-130 win points shows up about 1 time throughtout the data set, which is the lowest. When looking at skewness, this graph represents a right-skewed distribution. The majority of win points are between 65-85 win points. "
      ]
    },
    {
      "cell_type": "markdown",
      "metadata": {
        "id": "wQsDThk677Fy",
        "colab_type": "text"
      },
      "source": [
        "### Change over Time\n"
      ]
    },
    {
      "cell_type": "markdown",
      "metadata": {
        "id": "Z1j_YLOA7_OK",
        "colab_type": "text"
      },
      "source": [
        "![alt text](https://raw.githubusercontent.com/rxp5384/SRA268-Spring2020/master/images/Screen%20Shot%202020-02-21%20at%202.09.58%20AM.png)"
      ]
    },
    {
      "cell_type": "markdown",
      "metadata": {
        "id": "mpfsmmgi7_Vj",
        "colab_type": "text"
      },
      "source": [
        "#### What is this telling us?"
      ]
    },
    {
      "cell_type": "markdown",
      "metadata": {
        "id": "rYLXoMMO7_di",
        "colab_type": "text"
      },
      "source": [
        "Using a change over time graph like this, which is a line graph, shows the trend of the data. This graph represents the trend of win points over the academic years from 1984-2016. As you interpret the graph, you can see there is not a definite trend and varies throughout. However, the line varies in color to help the interpreter see the change over the years. The shades of orange/red represent win points from 4,287 and up, up to 4,828. The shades of blue represent win points from 4,828 and up, up to 5,369. From this you can see how the points varied through the years as they went up and down from the range of 4,287-5,369. The highest point of the line is in 1988 and the lowest point is 1984."
      ]
    },
    {
      "cell_type": "markdown",
      "metadata": {
        "id": "lFwiHoE-7_jZ",
        "colab_type": "text"
      },
      "source": [
        "### Magnitude\n"
      ]
    },
    {
      "cell_type": "markdown",
      "metadata": {
        "id": "ICQFnXj78EbF",
        "colab_type": "text"
      },
      "source": [
        "![alt text](https://raw.githubusercontent.com/rxp5384/SRA268-Spring2020/master/images/Screen%20Shot%202020-02-19%20at%201.00.27%20PM.png)"
      ]
    },
    {
      "cell_type": "markdown",
      "metadata": {
        "id": "QGG7XYG88Eii",
        "colab_type": "text"
      },
      "source": [
        "#### What is this telling us?"
      ]
    },
    {
      "cell_type": "markdown",
      "metadata": {
        "id": "VS7uGa0l8Eos",
        "colab_type": "text"
      },
      "source": [
        "Using a magnitude graph like this, which is a column/bar graph, shows the comparisons of the data. This graph represents win points throughout the different academic years. As you interpret the graph, you can see the year with the most win points is 1988 and the lowest win points is 1984. Throughout the years, the trend of the graph varies and is not definite. The different shades of green represent the lower and higher values in the data to help the viewer easily interpret the data. In the beginning years 1984 and 1985, the win points are low, but as you get to the end in years 2015 and 2016 the win points reach some of highest on the graph."
      ]
    },
    {
      "cell_type": "markdown",
      "metadata": {
        "id": "bEKFxP8R8Evk",
        "colab_type": "text"
      },
      "source": [
        "### Part-to-Whole\n"
      ]
    },
    {
      "cell_type": "markdown",
      "metadata": {
        "id": "WFHlcYKV8E35",
        "colab_type": "text"
      },
      "source": [
        "![alt text](https://raw.githubusercontent.com/rxp5384/SRA268-Spring2020/master/images/Screen%20Shot%202020-02-19%20at%201.06.59%20PM.png)"
      ]
    },
    {
      "cell_type": "markdown",
      "metadata": {
        "id": "PNSd3wlp8UZH",
        "colab_type": "text"
      },
      "source": [
        "#### What is this telling us?"
      ]
    },
    {
      "cell_type": "markdown",
      "metadata": {
        "id": "y9tb_QRA8aqt",
        "colab_type": "text"
      },
      "source": [
        "Using a part to whole graph like this, which is a pie chart, shows individual entities in the data and how it relates to other entities. This graph represents data without using quantitative data and only using visual interpertation. It shows the different days out of the week and the amount of win points per day. As you look at the pie chart, you can interpret that Thursday and Friday take up the majority of win points in the week. These two days take up almost two thirds of the pie chart and data. The lowest win points day would be Wednesday, which is represented by the little section of turquoise. Overall, this is a great way of seeing which day takes up a majority of the win points and how they compare to one another."
      ]
    }
  ]
}